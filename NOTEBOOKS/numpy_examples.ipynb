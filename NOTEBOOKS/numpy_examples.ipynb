{
 "cells": [
  {
   "cell_type": "markdown",
   "id": "3a33005e-e279-4316-8147-e4923221da09",
   "metadata": {},
   "source": [
    "# numpy examples"
   ]
  },
  {
   "cell_type": "code",
   "execution_count": 1,
   "id": "d829e07a-658a-447e-a2ec-7ff41eeb19e6",
   "metadata": {},
   "outputs": [],
   "source": [
    "import sys\n",
    "import numpy as np"
   ]
  },
  {
   "cell_type": "code",
   "execution_count": 2,
   "id": "554efbae-88b1-4cad-9625-674273768846",
   "metadata": {},
   "outputs": [],
   "source": [
    "data = [[1, 2, 3], [4, 5, 6], [7, 8, 9], [20, 30, 40]]"
   ]
  },
  {
   "cell_type": "code",
   "execution_count": 3,
   "id": "701bb43d-579b-4df3-8403-13abe8f7423c",
   "metadata": {},
   "outputs": [
    {
     "data": {
      "text/plain": [
       "array([[ 1,  2,  3],\n",
       "       [ 4,  5,  6],\n",
       "       [ 7,  8,  9],\n",
       "       [20, 30, 40]])"
      ]
     },
     "execution_count": 3,
     "metadata": {},
     "output_type": "execute_result"
    }
   ],
   "source": [
    "a = np.array(data)\n",
    "a"
   ]
  },
  {
   "cell_type": "code",
   "execution_count": 4,
   "id": "5a3ca1c6-8e49-4c73-9360-2e644690bb42",
   "metadata": {},
   "outputs": [
    {
     "data": {
      "text/plain": [
       "2"
      ]
     },
     "execution_count": 4,
     "metadata": {},
     "output_type": "execute_result"
    }
   ],
   "source": [
    "a.ndim"
   ]
  },
  {
   "cell_type": "code",
   "execution_count": 5,
   "id": "ed5fee56-af61-4cb8-8bb6-dd28243e8d20",
   "metadata": {},
   "outputs": [
    {
     "data": {
      "text/plain": [
       "(4, 3)"
      ]
     },
     "execution_count": 5,
     "metadata": {},
     "output_type": "execute_result"
    }
   ],
   "source": [
    "a.shape"
   ]
  },
  {
   "cell_type": "code",
   "execution_count": 6,
   "id": "60fb0ee8-7bb1-453a-bc3e-11882e2d1a86",
   "metadata": {},
   "outputs": [
    {
     "data": {
      "text/plain": [
       "12"
      ]
     },
     "execution_count": 6,
     "metadata": {},
     "output_type": "execute_result"
    }
   ],
   "source": [
    "a.size"
   ]
  },
  {
   "cell_type": "code",
   "execution_count": 7,
   "id": "f1cc9e01-859f-4a1a-8fe7-92371c657365",
   "metadata": {},
   "outputs": [
    {
     "data": {
      "text/plain": [
       "8"
      ]
     },
     "execution_count": 7,
     "metadata": {},
     "output_type": "execute_result"
    }
   ],
   "source": [
    "a.itemsize"
   ]
  },
  {
   "cell_type": "code",
   "execution_count": 9,
   "id": "17195588-bfae-43cb-840e-46a264c62f8b",
   "metadata": {},
   "outputs": [
    {
     "data": {
      "text/plain": [
       "96"
      ]
     },
     "execution_count": 9,
     "metadata": {},
     "output_type": "execute_result"
    }
   ],
   "source": [
    "a.nbytes"
   ]
  },
  {
   "cell_type": "code",
   "execution_count": 10,
   "id": "68f73ac4-13d2-4cc0-af85-a3a5205a21e7",
   "metadata": {},
   "outputs": [
    {
     "data": {
      "text/plain": [
       "array([[0, 0, 0],\n",
       "       [0, 0, 0],\n",
       "       [0, 0, 0],\n",
       "       [0, 0, 0],\n",
       "       [0, 0, 0],\n",
       "       [0, 0, 0],\n",
       "       [0, 0, 0],\n",
       "       [0, 0, 0],\n",
       "       [0, 0, 0],\n",
       "       [0, 0, 0]], dtype=uint32)"
      ]
     },
     "execution_count": 10,
     "metadata": {},
     "output_type": "execute_result"
    }
   ],
   "source": [
    "a_zeros = np.zeros((10, 3), dtype=np.uint32)\n",
    "a_zeros"
   ]
  },
  {
   "cell_type": "code",
   "execution_count": 14,
   "id": "09aaebdc-f0e7-4ce6-b65f-5ed408c58624",
   "metadata": {},
   "outputs": [
    {
     "data": {
      "text/plain": [
       "array([[1., 1., 1., 1.],\n",
       "       [1., 1., 1., 1.],\n",
       "       [1., 1., 1., 1.],\n",
       "       [1., 1., 1., 1.],\n",
       "       [1., 1., 1., 1.],\n",
       "       [1., 1., 1., 1.],\n",
       "       [1., 1., 1., 1.],\n",
       "       [1., 1., 1., 1.],\n",
       "       [1., 1., 1., 1.],\n",
       "       [1., 1., 1., 1.],\n",
       "       [1., 1., 1., 1.],\n",
       "       [1., 1., 1., 1.],\n",
       "       [1., 1., 1., 1.],\n",
       "       [1., 1., 1., 1.],\n",
       "       [1., 1., 1., 1.],\n",
       "       [1., 1., 1., 1.],\n",
       "       [1., 1., 1., 1.],\n",
       "       [1., 1., 1., 1.],\n",
       "       [1., 1., 1., 1.],\n",
       "       [1., 1., 1., 1.],\n",
       "       [1., 1., 1., 1.],\n",
       "       [1., 1., 1., 1.],\n",
       "       [1., 1., 1., 1.],\n",
       "       [1., 1., 1., 1.],\n",
       "       [1., 1., 1., 1.],\n",
       "       [1., 1., 1., 1.]])"
      ]
     },
     "execution_count": 14,
     "metadata": {},
     "output_type": "execute_result"
    }
   ],
   "source": [
    "a_ones = np.ones((26,4))\n",
    "a_ones"
   ]
  },
  {
   "cell_type": "code",
   "execution_count": 15,
   "id": "3ce9b323-9004-455c-a51d-c7d5a6c059b3",
   "metadata": {},
   "outputs": [
    {
     "data": {
      "text/plain": [
       "array([[0., 0.],\n",
       "       [0., 0.],\n",
       "       [0., 0.],\n",
       "       [0., 0.],\n",
       "       [0., 0.],\n",
       "       [0., 0.],\n",
       "       [0., 0.],\n",
       "       [0., 0.],\n",
       "       [0., 0.],\n",
       "       [0., 0.],\n",
       "       [0., 0.],\n",
       "       [0., 0.]])"
      ]
     },
     "execution_count": 15,
     "metadata": {},
     "output_type": "execute_result"
    }
   ],
   "source": [
    "a_empty  = np.empty((12, 2))\n",
    "a_empty"
   ]
  },
  {
   "cell_type": "code",
   "execution_count": 17,
   "id": "b6b6bc65-4682-4830-9232-443e49d3396e",
   "metadata": {},
   "outputs": [
    {
     "data": {
      "text/plain": [
       "array([[42, 42, 42, 42, 42],\n",
       "       [42, 42, 42, 42, 42],\n",
       "       [42, 42, 42, 42, 42],\n",
       "       [42, 42, 42, 42, 42],\n",
       "       [42, 42, 42, 42, 42],\n",
       "       [42, 42, 42, 42, 42],\n",
       "       [42, 42, 42, 42, 42],\n",
       "       [42, 42, 42, 42, 42],\n",
       "       [42, 42, 42, 42, 42],\n",
       "       [42, 42, 42, 42, 42],\n",
       "       [42, 42, 42, 42, 42],\n",
       "       [42, 42, 42, 42, 42],\n",
       "       [42, 42, 42, 42, 42],\n",
       "       [42, 42, 42, 42, 42],\n",
       "       [42, 42, 42, 42, 42],\n",
       "       [42, 42, 42, 42, 42],\n",
       "       [42, 42, 42, 42, 42],\n",
       "       [42, 42, 42, 42, 42],\n",
       "       [42, 42, 42, 42, 42],\n",
       "       [42, 42, 42, 42, 42],\n",
       "       [42, 42, 42, 42, 42],\n",
       "       [42, 42, 42, 42, 42],\n",
       "       [42, 42, 42, 42, 42],\n",
       "       [42, 42, 42, 42, 42],\n",
       "       [42, 42, 42, 42, 42],\n",
       "       [42, 42, 42, 42, 42],\n",
       "       [42, 42, 42, 42, 42],\n",
       "       [42, 42, 42, 42, 42],\n",
       "       [42, 42, 42, 42, 42],\n",
       "       [42, 42, 42, 42, 42]])"
      ]
     },
     "execution_count": 17,
     "metadata": {},
     "output_type": "execute_result"
    }
   ],
   "source": [
    "a_nan = np.full((30, 5), 42)\n",
    "a_nan"
   ]
  },
  {
   "cell_type": "code",
   "execution_count": 18,
   "id": "d0f1a35f-0910-46fb-8bee-836e4297dd7c",
   "metadata": {},
   "outputs": [
    {
     "data": {
      "text/plain": [
       "array([ 0,  1,  2,  3,  4,  5,  6,  7,  8,  9, 10, 11, 12, 13, 14, 15, 16,\n",
       "       17, 18, 19, 20, 21, 22, 23, 24, 25, 26, 27, 28, 29, 30, 31, 32, 33,\n",
       "       34, 35, 36, 37, 38, 39, 40, 41, 42, 43, 44, 45, 46, 47, 48, 49])"
      ]
     },
     "execution_count": 18,
     "metadata": {},
     "output_type": "execute_result"
    }
   ],
   "source": [
    "a1 = np.arange(50)\n",
    "a1"
   ]
  },
  {
   "cell_type": "code",
   "execution_count": 19,
   "id": "d8df7d7c-78c0-42a7-b573-5cd8335d4209",
   "metadata": {},
   "outputs": [
    {
     "data": {
      "text/plain": [
       "50"
      ]
     },
     "execution_count": 19,
     "metadata": {},
     "output_type": "execute_result"
    }
   ],
   "source": [
    "len(a1)"
   ]
  },
  {
   "cell_type": "code",
   "execution_count": 20,
   "id": "b352e68c-67de-44bd-8bd3-792fee2e2878",
   "metadata": {},
   "outputs": [
    {
     "data": {
      "text/plain": [
       "(50,)"
      ]
     },
     "execution_count": 20,
     "metadata": {},
     "output_type": "execute_result"
    }
   ],
   "source": [
    "a1.shape"
   ]
  },
  {
   "cell_type": "code",
   "execution_count": 21,
   "id": "42ae71a8-b8be-42dd-b3f9-0769fd88d62d",
   "metadata": {},
   "outputs": [
    {
     "data": {
      "text/plain": [
       "array([  5,  10,  15,  20,  25,  30,  35,  40,  45,  50,  55,  60,  65,\n",
       "        70,  75,  80,  85,  90,  95, 100])"
      ]
     },
     "execution_count": 21,
     "metadata": {},
     "output_type": "execute_result"
    }
   ],
   "source": [
    "a2 = np.arange(5, 101, 5)\n",
    "a2"
   ]
  },
  {
   "cell_type": "code",
   "execution_count": 22,
   "id": "e8f7b7be-1ba8-445d-b37a-80da9ce515a0",
   "metadata": {},
   "outputs": [
    {
     "data": {
      "text/plain": [
       "array([1. , 1.2, 1.4, 1.6, 1.8, 2. , 2.2, 2.4, 2.6, 2.8, 3. , 3.2, 3.4,\n",
       "       3.6, 3.8, 4. , 4.2, 4.4, 4.6, 4.8])"
      ]
     },
     "execution_count": 22,
     "metadata": {},
     "output_type": "execute_result"
    }
   ],
   "source": [
    "a3 = np.arange(1.0, 5.0, .2)\n",
    "a3"
   ]
  },
  {
   "cell_type": "code",
   "execution_count": 25,
   "id": "23ae0bd3-aea2-4e63-a1fa-bddd596496da",
   "metadata": {},
   "outputs": [
    {
     "data": {
      "text/plain": [
       "array([  0.        ,   4.16666667,   8.33333333,  12.5       ,\n",
       "        16.66666667,  20.83333333,  25.        ,  29.16666667,\n",
       "        33.33333333,  37.5       ,  41.66666667,  45.83333333,\n",
       "        50.        ,  54.16666667,  58.33333333,  62.5       ,\n",
       "        66.66666667,  70.83333333,  75.        ,  79.16666667,\n",
       "        83.33333333,  87.5       ,  91.66666667,  95.83333333,\n",
       "       100.        ])"
      ]
     },
     "execution_count": 25,
     "metadata": {},
     "output_type": "execute_result"
    }
   ],
   "source": [
    "a4 = np.linspace(0, 100, 25)\n",
    "a4"
   ]
  },
  {
   "cell_type": "code",
   "execution_count": 26,
   "id": "377fab8b-6b3d-4b61-b878-ef7384593b57",
   "metadata": {},
   "outputs": [
    {
     "data": {
      "text/plain": [
       "array([[ 5, 10, 15],\n",
       "       [ 2,  4,  6],\n",
       "       [ 3,  6,  9]])"
      ]
     },
     "execution_count": 26,
     "metadata": {},
     "output_type": "execute_result"
    }
   ],
   "source": [
    "a = np.array(\n",
    "      [\n",
    "[5, 10, 15], [2, 4, 6], [3, 6, 9, ],\n",
    "      ]\n",
    "  )  # create 2D array\n",
    "a"
   ]
  },
  {
   "cell_type": "code",
   "execution_count": 28,
   "id": "1737d65e-f9cc-4e03-b4a3-18cce9eb059b",
   "metadata": {},
   "outputs": [
    {
     "data": {
      "text/plain": [
       "array([[10, 85, 92],\n",
       "       [77, 16, 14],\n",
       "       [19, 52, 23]])"
      ]
     },
     "execution_count": 28,
     "metadata": {},
     "output_type": "execute_result"
    }
   ],
   "source": [
    "b = np.array(\n",
    "      [\n",
    "[10, 85, 92], [77, 16, 14], [19, 52, 23],\n",
    "      ]\n",
    "  )\n",
    "b"
   ]
  },
  {
   "cell_type": "code",
   "execution_count": 29,
   "id": "81b70d43-cbfb-4119-aada-c30e9a0f7c24",
   "metadata": {},
   "outputs": [
    {
     "data": {
      "text/plain": [
       "array([[25, 50, 75],\n",
       "       [10, 20, 30],\n",
       "       [15, 30, 45]])"
      ]
     },
     "execution_count": 29,
     "metadata": {},
     "output_type": "execute_result"
    }
   ],
   "source": [
    "a * 5"
   ]
  },
  {
   "cell_type": "code",
   "execution_count": 30,
   "id": "e26a1736-dc9b-4a6d-a15a-c70df3e951b7",
   "metadata": {},
   "outputs": [
    {
     "data": {
      "text/plain": [
       "array([[25, 50, 75],\n",
       "       [10, 20, 30],\n",
       "       [15, 30, 45]])"
      ]
     },
     "execution_count": 30,
     "metadata": {},
     "output_type": "execute_result"
    }
   ],
   "source": [
    "a_times_5 = a * 5\n",
    "a_times_5"
   ]
  },
  {
   "cell_type": "code",
   "execution_count": 31,
   "id": "45f3e8be-502b-4588-af07-fb438e298619",
   "metadata": {},
   "outputs": [
    {
     "data": {
      "text/plain": [
       "array([[ 5, 10, 15],\n",
       "       [ 2,  4,  6],\n",
       "       [ 3,  6,  9]])"
      ]
     },
     "execution_count": 31,
     "metadata": {},
     "output_type": "execute_result"
    }
   ],
   "source": [
    "a"
   ]
  },
  {
   "cell_type": "code",
   "execution_count": 32,
   "id": "1d7c912a-8a23-4be1-b856-b66545588f29",
   "metadata": {},
   "outputs": [
    {
     "data": {
      "text/plain": [
       "array([[10, 85, 92],\n",
       "       [77, 16, 14],\n",
       "       [19, 52, 23]])"
      ]
     },
     "execution_count": 32,
     "metadata": {},
     "output_type": "execute_result"
    }
   ],
   "source": [
    "b"
   ]
  },
  {
   "cell_type": "code",
   "execution_count": 33,
   "id": "3952096e-8a47-496e-b992-020f48fc8a0f",
   "metadata": {},
   "outputs": [
    {
     "data": {
      "text/plain": [
       "array([[ 15,  95, 107],\n",
       "       [ 79,  20,  20],\n",
       "       [ 22,  58,  32]])"
      ]
     },
     "execution_count": 33,
     "metadata": {},
     "output_type": "execute_result"
    }
   ],
   "source": [
    "a + b"
   ]
  },
  {
   "cell_type": "code",
   "execution_count": 34,
   "id": "b6bfc632-45af-47e0-ae61-b7cb43bdd6c7",
   "metadata": {},
   "outputs": [],
   "source": [
    "def c2f(c):\n",
    "    return (95 * c) + 32"
   ]
  },
  {
   "cell_type": "code",
   "execution_count": 35,
   "id": "81c477a0-2765-4d56-aadf-7b8e4a5e0619",
   "metadata": {},
   "outputs": [
    {
     "data": {
      "text/plain": [
       "array([[ 507,  982, 1457],\n",
       "       [ 222,  412,  602],\n",
       "       [ 317,  602,  887]])"
      ]
     },
     "execution_count": 35,
     "metadata": {},
     "output_type": "execute_result"
    }
   ],
   "source": [
    "c2f(a)"
   ]
  },
  {
   "cell_type": "code",
   "execution_count": 36,
   "id": "6a66e6ca-affb-4d7f-aca5-a24940fd5013",
   "metadata": {},
   "outputs": [
    {
     "data": {
      "text/plain": [
       "array([[ 5, 10, 15],\n",
       "       [ 2,  4,  6],\n",
       "       [ 3,  6,  9]])"
      ]
     },
     "execution_count": 36,
     "metadata": {},
     "output_type": "execute_result"
    }
   ],
   "source": [
    "a"
   ]
  },
  {
   "cell_type": "code",
   "execution_count": 37,
   "id": "bf59bd97-ecff-4124-a909-0fbbac64e4ba",
   "metadata": {},
   "outputs": [
    {
     "data": {
      "text/plain": [
       "array([[0.5, 1. , 1.5],\n",
       "       [0.2, 0.4, 0.6],\n",
       "       [0.3, 0.6, 0.9]])"
      ]
     },
     "execution_count": 37,
     "metadata": {},
     "output_type": "execute_result"
    }
   ],
   "source": [
    "a / 10"
   ]
  },
  {
   "cell_type": "code",
   "execution_count": 38,
   "id": "e719f617-0620-4c90-ae01-5666a7d9f074",
   "metadata": {},
   "outputs": [
    {
     "data": {
      "text/plain": [
       "array([[ 5, 10, 15],\n",
       "       [ 2,  4,  6],\n",
       "       [ 3,  6,  9]])"
      ]
     },
     "execution_count": 38,
     "metadata": {},
     "output_type": "execute_result"
    }
   ],
   "source": [
    "a"
   ]
  },
  {
   "cell_type": "code",
   "execution_count": 39,
   "id": "4cc3d9a5-cdb4-44cc-ac0e-8eb6cafe4588",
   "metadata": {},
   "outputs": [
    {
     "ename": "UFuncTypeError",
     "evalue": "Cannot cast ufunc 'divide' output from dtype('float64') to dtype('int64') with casting rule 'same_kind'",
     "output_type": "error",
     "traceback": [
      "\u001b[0;31m---------------------------------------------------------------------------\u001b[0m",
      "\u001b[0;31mUFuncTypeError\u001b[0m                            Traceback (most recent call last)",
      "Cell \u001b[0;32mIn[39], line 1\u001b[0m\n\u001b[0;32m----> 1\u001b[0m \u001b[43ma\u001b[49m\u001b[43m \u001b[49m\u001b[38;5;241;43m/\u001b[39;49m\u001b[38;5;241;43m=\u001b[39;49m\u001b[43m \u001b[49m\u001b[38;5;241;43m10\u001b[39;49m\n",
      "\u001b[0;31mUFuncTypeError\u001b[0m: Cannot cast ufunc 'divide' output from dtype('float64') to dtype('int64') with casting rule 'same_kind'"
     ]
    }
   ],
   "source": [
    "a /= 10"
   ]
  },
  {
   "cell_type": "code",
   "execution_count": 40,
   "id": "06b8e256-d831-482b-919d-828ab12e30d5",
   "metadata": {},
   "outputs": [
    {
     "data": {
      "text/plain": [
       "array([[0, 1, 1],\n",
       "       [0, 0, 0],\n",
       "       [0, 0, 0]])"
      ]
     },
     "execution_count": 40,
     "metadata": {},
     "output_type": "execute_result"
    }
   ],
   "source": [
    "a //= 10\n",
    "a"
   ]
  },
  {
   "cell_type": "code",
   "execution_count": 41,
   "id": "cd0eb2d7-a4d5-42ed-bbfc-0fc15d43c388",
   "metadata": {},
   "outputs": [],
   "source": [
    "a += 25"
   ]
  },
  {
   "cell_type": "code",
   "execution_count": 42,
   "id": "da82607c-bbc3-4f0b-9739-762c2bb7febc",
   "metadata": {},
   "outputs": [
    {
     "data": {
      "text/plain": [
       "array([[25, 26, 26],\n",
       "       [25, 25, 25],\n",
       "       [25, 25, 25]])"
      ]
     },
     "execution_count": 42,
     "metadata": {},
     "output_type": "execute_result"
    }
   ],
   "source": [
    "a"
   ]
  },
  {
   "cell_type": "code",
   "execution_count": 44,
   "id": "29f91f8d-7d40-45da-9206-8104997a97a9",
   "metadata": {},
   "outputs": [
    {
     "data": {
      "text/plain": [
       "array([ 0,  1,  2,  3,  4,  5,  6,  7,  8,  9, 10, 11, 12, 13, 14])"
      ]
     },
     "execution_count": 44,
     "metadata": {},
     "output_type": "execute_result"
    }
   ],
   "source": [
    "aa = np.arange(15)\n",
    "aa"
   ]
  },
  {
   "cell_type": "code",
   "execution_count": 45,
   "id": "e49d896e-a1e7-403b-a79e-e759461b5d23",
   "metadata": {},
   "outputs": [
    {
     "data": {
      "text/plain": [
       "(15,)"
      ]
     },
     "execution_count": 45,
     "metadata": {},
     "output_type": "execute_result"
    }
   ],
   "source": [
    "aa.shape"
   ]
  },
  {
   "cell_type": "code",
   "execution_count": 47,
   "id": "54066af5-3a87-47d0-9e94-f98ac2450d3b",
   "metadata": {},
   "outputs": [
    {
     "data": {
      "text/plain": [
       "array([[ 0,  1,  2],\n",
       "       [ 3,  4,  5],\n",
       "       [ 6,  7,  8],\n",
       "       [ 9, 10, 11],\n",
       "       [12, 13, 14]])"
      ]
     },
     "execution_count": 47,
     "metadata": {},
     "output_type": "execute_result"
    }
   ],
   "source": [
    "aa.shape = (5, 3)\n",
    "aa"
   ]
  },
  {
   "cell_type": "code",
   "execution_count": 48,
   "id": "0348d2d7-9b19-46ea-852d-e25549d3ab26",
   "metadata": {},
   "outputs": [
    {
     "data": {
      "text/plain": [
       "array([[ 0,  1,  2,  3,  4],\n",
       "       [ 5,  6,  7,  8,  9],\n",
       "       [10, 11, 12, 13, 14]])"
      ]
     },
     "execution_count": 48,
     "metadata": {},
     "output_type": "execute_result"
    }
   ],
   "source": [
    "aa.shape = (3, 5)\n",
    "aa"
   ]
  },
  {
   "cell_type": "code",
   "execution_count": 49,
   "id": "1aa14028-7e33-4726-8b34-c7f34ce59581",
   "metadata": {},
   "outputs": [
    {
     "data": {
      "text/plain": [
       "array([ 0,  1,  2,  3,  4,  5,  6,  7,  8,  9, 10, 11, 12, 13, 14])"
      ]
     },
     "execution_count": 49,
     "metadata": {},
     "output_type": "execute_result"
    }
   ],
   "source": [
    "aa.ravel()"
   ]
  },
  {
   "cell_type": "code",
   "execution_count": 50,
   "id": "a10e60ff-6dd8-4c7e-8cf3-25f1c1ae1cd9",
   "metadata": {},
   "outputs": [
    {
     "data": {
      "text/plain": [
       "array([ 0,  1,  2,  3,  4,  5,  6,  7,  8,  9, 10, 11, 12, 13, 14])"
      ]
     },
     "execution_count": 50,
     "metadata": {},
     "output_type": "execute_result"
    }
   ],
   "source": [
    "aa.flatten()"
   ]
  },
  {
   "cell_type": "code",
   "execution_count": 51,
   "id": "b5bc2f9d-031b-4c44-b0cb-f3a34092bd94",
   "metadata": {},
   "outputs": [
    {
     "data": {
      "text/plain": [
       "array([[99,  1,  2,  3,  4],\n",
       "       [ 5,  6,  7,  8,  9],\n",
       "       [10, 11, 12, 13, 14]])"
      ]
     },
     "execution_count": 51,
     "metadata": {},
     "output_type": "execute_result"
    }
   ],
   "source": [
    "r = aa.ravel()\n",
    "r[0] = 99\n",
    "aa"
   ]
  },
  {
   "cell_type": "code",
   "execution_count": 52,
   "id": "f54642b9-5d7d-4472-825a-baf2152319fe",
   "metadata": {},
   "outputs": [
    {
     "data": {
      "text/plain": [
       "array([[99,  1,  2,  3,  4],\n",
       "       [ 5,  6,  7,  8,  9],\n",
       "       [10, 11, 12, 13, 14]])"
      ]
     },
     "execution_count": 52,
     "metadata": {},
     "output_type": "execute_result"
    }
   ],
   "source": [
    "f = aa.flatten()\n",
    "f[0] = 1234\n",
    "aa"
   ]
  },
  {
   "cell_type": "code",
   "execution_count": 53,
   "id": "10e656dd-96a0-4b2a-bca0-3a0637ff9f4b",
   "metadata": {},
   "outputs": [
    {
     "data": {
      "text/plain": [
       "array([[99,  1,  2,  3,  4],\n",
       "       [ 5,  6,  7,  8,  9],\n",
       "       [10, 11, 12, 13, 14]])"
      ]
     },
     "execution_count": 53,
     "metadata": {},
     "output_type": "execute_result"
    }
   ],
   "source": [
    "aa"
   ]
  },
  {
   "cell_type": "code",
   "execution_count": 54,
   "id": "27791c44-4aa6-47a0-a53a-263a6fcd546a",
   "metadata": {},
   "outputs": [
    {
     "data": {
      "text/plain": [
       "array([[99,  5, 10],\n",
       "       [ 1,  6, 11],\n",
       "       [ 2,  7, 12],\n",
       "       [ 3,  8, 13],\n",
       "       [ 4,  9, 14]])"
      ]
     },
     "execution_count": 54,
     "metadata": {},
     "output_type": "execute_result"
    }
   ],
   "source": [
    "aa.transpose()"
   ]
  },
  {
   "cell_type": "code",
   "execution_count": 55,
   "id": "e34e8f28-a8c2-4a0c-a032-b54abb44b145",
   "metadata": {},
   "outputs": [
    {
     "data": {
      "text/plain": [
       "array([[70, 31, 21, 76, 19,  5, 54, 66],\n",
       "       [23, 29, 71, 12, 27, 74, 65, 73],\n",
       "       [11, 84,  7, 10, 31, 50, 11, 98],\n",
       "       [25, 13, 43,  1, 31, 52, 41, 90],\n",
       "       [75, 37, 11, 62, 35, 76, 38,  4]])"
      ]
     },
     "execution_count": 55,
     "metadata": {},
     "output_type": "execute_result"
    }
   ],
   "source": [
    "a = np.array(\n",
    "[[70, 31, 21, 76, 19, 5, 54, 66],\n",
    "[23, 29, 71, 12, 27, 74, 65, 73], [11, 84, 7, 10, 31, 50, 11, 98], [25, 13, 43, 1, 31, 52, 41, 90], [75, 37, 11, 62, 35, 76, 38, 4]]\n",
    "  ) \n",
    "a"
   ]
  },
  {
   "cell_type": "code",
   "execution_count": 56,
   "id": "f8a7f2f6-1c41-4a8a-b76b-53d35ff7160d",
   "metadata": {},
   "outputs": [
    {
     "data": {
      "text/plain": [
       "array([70, 31, 21, 76, 19,  5, 54, 66])"
      ]
     },
     "execution_count": 56,
     "metadata": {},
     "output_type": "execute_result"
    }
   ],
   "source": [
    "a[0]"
   ]
  },
  {
   "cell_type": "code",
   "execution_count": 57,
   "id": "7433d0ff-f702-457b-8f1d-47f376096d32",
   "metadata": {},
   "outputs": [
    {
     "data": {
      "text/plain": [
       "70"
      ]
     },
     "execution_count": 57,
     "metadata": {},
     "output_type": "execute_result"
    }
   ],
   "source": [
    "a[0][0]"
   ]
  },
  {
   "cell_type": "code",
   "execution_count": 58,
   "id": "13b588de-1af7-47fe-b832-412217134e93",
   "metadata": {},
   "outputs": [
    {
     "data": {
      "text/plain": [
       "70"
      ]
     },
     "execution_count": 58,
     "metadata": {},
     "output_type": "execute_result"
    }
   ],
   "source": [
    "a[0,0]"
   ]
  },
  {
   "cell_type": "code",
   "execution_count": 59,
   "id": "4593df18-a739-42fc-aa8f-5868fc28fb68",
   "metadata": {},
   "outputs": [
    {
     "data": {
      "text/plain": [
       "array([70, 31, 21])"
      ]
     },
     "execution_count": 59,
     "metadata": {},
     "output_type": "execute_result"
    }
   ],
   "source": [
    "a[0,:3]"
   ]
  },
  {
   "cell_type": "code",
   "execution_count": 60,
   "id": "342bb8c2-79a3-4ebc-9263-640f8e701d67",
   "metadata": {},
   "outputs": [
    {
     "data": {
      "text/plain": [
       "array([[70, 31],\n",
       "       [23, 29],\n",
       "       [11, 84]])"
      ]
     },
     "execution_count": 60,
     "metadata": {},
     "output_type": "execute_result"
    }
   ],
   "source": [
    "a[:3,:2]"
   ]
  },
  {
   "cell_type": "code",
   "execution_count": 61,
   "id": "f79d55c1-bcbd-4051-9b50-76fef0a7805f",
   "metadata": {},
   "outputs": [
    {
     "data": {
      "text/plain": [
       "array([[11, 98],\n",
       "       [41, 90],\n",
       "       [38,  4]])"
      ]
     },
     "execution_count": 61,
     "metadata": {},
     "output_type": "execute_result"
    }
   ],
   "source": [
    "a[-3:,-2:]"
   ]
  },
  {
   "cell_type": "code",
   "execution_count": 62,
   "id": "898c00ed-1a96-4682-8d74-aa39699f477a",
   "metadata": {},
   "outputs": [],
   "source": [
    "# ARRAY[row-index,col-index]"
   ]
  },
  {
   "cell_type": "code",
   "execution_count": 64,
   "id": "0cb6536a-e08a-4c68-8cc2-c79c235cc848",
   "metadata": {},
   "outputs": [
    {
     "data": {
      "text/plain": [
       "array([[70, 31],\n",
       "       [23, 29],\n",
       "       [11, 84],\n",
       "       [25, 13],\n",
       "       [75, 37]])"
      ]
     },
     "execution_count": 64,
     "metadata": {},
     "output_type": "execute_result"
    }
   ],
   "source": [
    "a[:,:2]"
   ]
  },
  {
   "cell_type": "code",
   "execution_count": 65,
   "id": "ab88c579-3343-4e40-b390-435564d0eca9",
   "metadata": {},
   "outputs": [
    {
     "data": {
      "text/plain": [
       "array([[70, 31, 21, 76, 19,  5, 54, 66],\n",
       "       [23, 29, 71, 12, 27, 74, 65, 73],\n",
       "       [11, 84,  7, 10, 31, 50, 11, 98],\n",
       "       [25, 13, 43,  1, 31, 52, 41, 90],\n",
       "       [75, 37, 11, 62, 35, 76, 38,  4]])"
      ]
     },
     "execution_count": 65,
     "metadata": {},
     "output_type": "execute_result"
    }
   ],
   "source": [
    "a = np.array(\n",
    "[[70, 31, 21, 76, 19, 5, 54, 66],\n",
    "[23, 29, 71, 12, 27, 74, 65, 73], [11, 84, 7, 10, 31, 50, 11, 98], [25, 13, 43, 1, 31, 52, 41, 90], [75, 37, 11, 62, 35, 76, 38, 4]]\n",
    "  ) \n",
    "a"
   ]
  },
  {
   "cell_type": "code",
   "execution_count": 66,
   "id": "3768f540-fb90-40f7-933f-8761423f1051",
   "metadata": {},
   "outputs": [
    {
     "data": {
      "text/plain": [
       "array([[ True, False, False,  True, False, False,  True,  True],\n",
       "       [False, False,  True, False, False,  True,  True,  True],\n",
       "       [False,  True, False, False, False, False, False,  True],\n",
       "       [False, False, False, False, False,  True, False,  True],\n",
       "       [ True, False, False,  True, False,  True, False, False]])"
      ]
     },
     "execution_count": 66,
     "metadata": {},
     "output_type": "execute_result"
    }
   ],
   "source": [
    "a > 50"
   ]
  },
  {
   "cell_type": "code",
   "execution_count": 67,
   "id": "f2223f47-4bc9-42d6-b295-7909bfa70d2e",
   "metadata": {},
   "outputs": [
    {
     "data": {
      "text/plain": [
       "array([70, 76, 54, 66, 71, 74, 65, 73, 84, 98, 52, 90, 75, 62, 76])"
      ]
     },
     "execution_count": 67,
     "metadata": {},
     "output_type": "execute_result"
    }
   ],
   "source": [
    "a[a > 50]"
   ]
  },
  {
   "cell_type": "code",
   "execution_count": 68,
   "id": "a9a48416-e9bc-4dbb-811b-e3757850edde",
   "metadata": {},
   "outputs": [
    {
     "data": {
      "text/plain": [
       "array([[ True, False, False,  True, False, False,  True,  True],\n",
       "       [False, False,  True, False, False,  True,  True,  True],\n",
       "       [False,  True, False, False, False, False, False,  True],\n",
       "       [False, False, False, False, False,  True, False,  True],\n",
       "       [ True, False, False,  True, False,  True, False, False]])"
      ]
     },
     "execution_count": 68,
     "metadata": {},
     "output_type": "execute_result"
    }
   ],
   "source": [
    "mask = a > 50\n",
    "mask"
   ]
  },
  {
   "cell_type": "code",
   "execution_count": 69,
   "id": "56489a21-a76a-4dec-a051-5530ec8d0b91",
   "metadata": {},
   "outputs": [
    {
     "data": {
      "text/plain": [
       "array([7. , 7.6, 5.4, 6.6, 7.1, 7.4, 6.5, 7.3, 8.4, 9.8, 5.2, 9. , 7.5,\n",
       "       6.2, 7.6])"
      ]
     },
     "execution_count": 69,
     "metadata": {},
     "output_type": "execute_result"
    }
   ],
   "source": [
    "a[mask] * .1"
   ]
  },
  {
   "cell_type": "code",
   "execution_count": 70,
   "id": "c1718d0c-3f2d-4021-ae82-a65bdfb142d4",
   "metadata": {},
   "outputs": [
    {
     "data": {
      "text/plain": [
       "array([[63., 51., 59., 61., 50.,  4.],\n",
       "       [40., 66.,  9., 64., 63., 17.],\n",
       "       [18., 23.,  2., 61.,  1.,  9.],\n",
       "       ...,\n",
       "       [26., 20., 54., 46., 38., 23.],\n",
       "       [ 9.,  5., 59., 23.,  2., 26.],\n",
       "       [46., 34., 25.,  8., 39., 34.]])"
      ]
     },
     "execution_count": 70,
     "metadata": {},
     "output_type": "execute_result"
    }
   ],
   "source": [
    "data = np.loadtxt('../DATA/columns_of_numbers.txt', skiprows=1)\n",
    "data"
   ]
  },
  {
   "cell_type": "code",
   "execution_count": 71,
   "id": "aa00121f-cc9a-4a47-aca6-f0355dd2247b",
   "metadata": {},
   "outputs": [
    {
     "data": {
      "text/plain": [
       "array([[63., 51., 59., 61., 50.,  4.],\n",
       "       [40., 66.,  9., 64., 63., 17.],\n",
       "       [18., 23.,  2., 61.,  1.,  9.],\n",
       "       [29.,  8., 40., 59., 10., 26.],\n",
       "       [54.,  9., 68.,  4., 16., 21.]])"
      ]
     },
     "execution_count": 71,
     "metadata": {},
     "output_type": "execute_result"
    }
   ],
   "source": [
    "data[:5]"
   ]
  },
  {
   "cell_type": "code",
   "execution_count": 72,
   "id": "cdc7db4d-23bc-4e49-8b8d-e9c1a24e71d1",
   "metadata": {},
   "outputs": [
    {
     "data": {
      "text/plain": [
       "array([[33.,  8., 45.,  9.,  2.,  5.],\n",
       "       [ 5., 22., 45., 49., 10., 37.],\n",
       "       [18., 53.,  5., 28., 20., 27.],\n",
       "       [24., 44., 30., 32.,  7., 18.],\n",
       "       [33., 26., 14., 41.,  1., 37.],\n",
       "       [10., 32., 18.,  5., 23.,  4.],\n",
       "       [ 6., 37., 42., 20., 25., 25.],\n",
       "       [26., 20., 54., 46., 38., 23.],\n",
       "       [ 9.,  5., 59., 23.,  2., 26.],\n",
       "       [46., 34., 25.,  8., 39., 34.]])"
      ]
     },
     "execution_count": 72,
     "metadata": {},
     "output_type": "execute_result"
    }
   ],
   "source": [
    "data[-10:]"
   ]
  },
  {
   "cell_type": "code",
   "execution_count": 73,
   "id": "a9819d20-e8ee-4f65-a91e-b6f9aa1e1a78",
   "metadata": {},
   "outputs": [
    {
     "data": {
      "text/plain": [
       "array([[ 8., 49.,  2., 40., 50., 36.],\n",
       "       [ 4., 49., 39., 50., 23., 39.],\n",
       "       [ 6.,  7., 40., 56., 31., 38.],\n",
       "       [ 6.,  1., 44., 55., 49., 36.],\n",
       "       [ 5., 22., 45., 49., 10., 37.]])"
      ]
     },
     "execution_count": 73,
     "metadata": {},
     "output_type": "execute_result"
    }
   ],
   "source": [
    "selected = data[\n",
    "    (data[:,0] < 10)\n",
    "    &\n",
    "    (data[:,-1] > 35)\n",
    "]\n",
    "selected"
   ]
  },
  {
   "cell_type": "code",
   "execution_count": 74,
   "id": "0937110d-d5c5-49c8-ae99-9d1231019a5c",
   "metadata": {},
   "outputs": [
    {
     "data": {
      "text/plain": [
       "5"
      ]
     },
     "execution_count": 74,
     "metadata": {},
     "output_type": "execute_result"
    }
   ],
   "source": [
    "len(selected)"
   ]
  },
  {
   "cell_type": "code",
   "execution_count": 75,
   "id": "2eb471e2-16ba-42c4-8556-b3fcca394fd9",
   "metadata": {},
   "outputs": [
    {
     "data": {
      "text/plain": [
       "array([[70, 31, 21, 76, 19,  5, 54, 66],\n",
       "       [23, 29, 71, 12, 27, 74, 65, 73]])"
      ]
     },
     "execution_count": 75,
     "metadata": {},
     "output_type": "execute_result"
    }
   ],
   "source": [
    "a = np.array(\n",
    "[[70, 31, 21, 76, 19, 5, 54, 66],\n",
    "[23, 29, 71, 12, 27, 74, 65, 73]] )\n",
    "a"
   ]
  },
  {
   "cell_type": "code",
   "execution_count": 76,
   "id": "17987451-70cc-420a-96f1-0d86e5a32b59",
   "metadata": {},
   "outputs": [
    {
     "data": {
      "text/plain": [
       "array([[11, 84,  7, 10, 31, 50, 11, 98],\n",
       "       [25, 13, 43,  1, 31, 52, 41, 90]])"
      ]
     },
     "execution_count": 76,
     "metadata": {},
     "output_type": "execute_result"
    }
   ],
   "source": [
    "b = np.array(\n",
    "[[11, 84, 7, 10, 31, 50, 11, 98],\n",
    "[25, 13, 43, 1, 31, 52, 41, 90]] )\n",
    "b"
   ]
  },
  {
   "cell_type": "code",
   "execution_count": 77,
   "id": "a190d8bb-6468-4139-a71e-09d69955c2bc",
   "metadata": {},
   "outputs": [
    {
     "data": {
      "text/plain": [
       "array([[70, 31, 21, 76, 19,  5, 54, 66],\n",
       "       [23, 29, 71, 12, 27, 74, 65, 73],\n",
       "       [11, 84,  7, 10, 31, 50, 11, 98],\n",
       "       [25, 13, 43,  1, 31, 52, 41, 90]])"
      ]
     },
     "execution_count": 77,
     "metadata": {},
     "output_type": "execute_result"
    }
   ],
   "source": [
    "np.vstack((a, b))"
   ]
  },
  {
   "cell_type": "code",
   "execution_count": 78,
   "id": "d49c62cc-bc31-4b54-b282-d7f4900f27e3",
   "metadata": {},
   "outputs": [
    {
     "data": {
      "text/plain": [
       "array([[70, 31, 21, 76, 19,  5, 54, 66, 11, 84,  7, 10, 31, 50, 11, 98],\n",
       "       [23, 29, 71, 12, 27, 74, 65, 73, 25, 13, 43,  1, 31, 52, 41, 90]])"
      ]
     },
     "execution_count": 78,
     "metadata": {},
     "output_type": "execute_result"
    }
   ],
   "source": [
    "np.hstack((a, b))"
   ]
  },
  {
   "cell_type": "code",
   "execution_count": 79,
   "id": "18b3c8cd-ba5e-4661-a5a0-f5049d7843ce",
   "metadata": {},
   "outputs": [
    {
     "data": {
      "text/plain": [
       "array([[70, 31, 21, 76, 19,  5, 54, 66],\n",
       "       [23, 29, 71, 12, 27, 74, 65, 73]])"
      ]
     },
     "execution_count": 79,
     "metadata": {},
     "output_type": "execute_result"
    }
   ],
   "source": [
    "a"
   ]
  },
  {
   "cell_type": "code",
   "execution_count": 80,
   "id": "62eb5957-c609-4197-a00e-f337551c2aa8",
   "metadata": {},
   "outputs": [
    {
     "data": {
      "text/plain": [
       "array([[ 70,  31,  21,  76,  19,   5,  54,  66],\n",
       "       [ 23,  29,  71,  12,  27,  74,  65,  73],\n",
       "       [ 93,  60,  92,  88,  46,  79, 119, 139]])"
      ]
     },
     "execution_count": 80,
     "metadata": {},
     "output_type": "execute_result"
    }
   ],
   "source": [
    "sums = np.vstack((a, a[0] + a[1]))\n",
    "sums"
   ]
  },
  {
   "cell_type": "markdown",
   "id": "66d28b55-8220-4b62-82f8-594047746955",
   "metadata": {},
   "source": [
    "`a1 + a2` is really `np.add(a1, a2)`"
   ]
  },
  {
   "cell_type": "code",
   "execution_count": 81,
   "id": "76e08327-66f1-46bb-aa94-d3693e97bcb4",
   "metadata": {},
   "outputs": [
    {
     "data": {
      "text/plain": [
       "array([[ 81, 115,  28,  86,  50,  55,  65, 164],\n",
       "       [ 48,  42, 114,  13,  58, 126, 106, 163]])"
      ]
     },
     "execution_count": 81,
     "metadata": {},
     "output_type": "execute_result"
    }
   ],
   "source": [
    "a + b"
   ]
  },
  {
   "cell_type": "code",
   "execution_count": 82,
   "id": "19460bb4-4129-472f-9136-2e45bf523f1b",
   "metadata": {},
   "outputs": [
    {
     "data": {
      "text/plain": [
       "array([[ 81, 115,  28,  86,  50,  55,  65, 164],\n",
       "       [ 48,  42, 114,  13,  58, 126, 106, 163]])"
      ]
     },
     "execution_count": 82,
     "metadata": {},
     "output_type": "execute_result"
    }
   ],
   "source": [
    "np.add(a, b)"
   ]
  },
  {
   "cell_type": "code",
   "execution_count": 83,
   "id": "f92e6c9f-4c0d-48d6-abf1-d8ac5aa2c57b",
   "metadata": {},
   "outputs": [],
   "source": [
    "from scipy import fftpack as ff"
   ]
  },
  {
   "cell_type": "code",
   "execution_count": 84,
   "id": "b2cd2878-5cb1-46ce-8c55-f2e111955237",
   "metadata": {},
   "outputs": [
    {
     "name": "stdout",
     "output_type": "stream",
     "text": [
      " fft(x, n=None, axis=-1, overwrite_x=False)\n",
      "\n",
      "Return discrete Fourier transform of real or complex sequence.\n",
      "\n",
      "The returned complex array contains ``y(0), y(1),..., y(n-1)``, where\n",
      "\n",
      "``y(j) = (x * exp(-2*pi*sqrt(-1)*j*np.arange(n)/n)).sum()``.\n",
      "\n",
      "Parameters\n",
      "----------\n",
      "x : array_like\n",
      "    Array to Fourier transform.\n",
      "n : int, optional\n",
      "    Length of the Fourier transform. If ``n < x.shape[axis]``, `x` is\n",
      "    truncated. If ``n > x.shape[axis]``, `x` is zero-padded. The\n",
      "    default results in ``n = x.shape[axis]``.\n",
      "axis : int, optional\n",
      "    Axis along which the fft's are computed; the default is over the\n",
      "    last axis (i.e., ``axis=-1``).\n",
      "overwrite_x : bool, optional\n",
      "    If True, the contents of `x` can be destroyed; the default is False.\n",
      "\n",
      "Returns\n",
      "-------\n",
      "z : complex ndarray\n",
      "    with the elements::\n",
      "\n",
      "        [y(0),y(1),..,y(n/2),y(1-n/2),...,y(-1)]        if n is even\n",
      "        [y(0),y(1),..,y((n-1)/2),y(-(n-1)/2),...,y(-1)]  if n is odd\n",
      "\n",
      "    where::\n",
      "\n",
      "        y(j) = sum[k=0..n-1] x[k] * exp(-sqrt(-1)*j*k* 2*pi/n), j = 0..n-1\n",
      "\n",
      "See Also\n",
      "--------\n",
      "ifft : Inverse FFT\n",
      "rfft : FFT of a real sequence\n",
      "\n",
      "Notes\n",
      "-----\n",
      "The packing of the result is \"standard\": If ``A = fft(a, n)``, then\n",
      "``A[0]`` contains the zero-frequency term, ``A[1:n/2]`` contains the\n",
      "positive-frequency terms, and ``A[n/2:]`` contains the negative-frequency\n",
      "terms, in order of decreasingly negative frequency. So ,for an 8-point\n",
      "transform, the frequencies of the result are [0, 1, 2, 3, -4, -3, -2, -1].\n",
      "To rearrange the fft output so that the zero-frequency component is\n",
      "centered, like [-4, -3, -2, -1,  0,  1,  2,  3], use `fftshift`.\n",
      "\n",
      "Both single and double precision routines are implemented. Half precision\n",
      "inputs will be converted to single precision. Non-floating-point inputs\n",
      "will be converted to double precision. Long-double precision inputs are\n",
      "not supported.\n",
      "\n",
      "This function is most efficient when `n` is a power of two, and least\n",
      "efficient when `n` is prime.\n",
      "\n",
      "Note that if ``x`` is real-valued, then ``A[j] == A[n-j].conjugate()``.\n",
      "If ``x`` is real-valued and ``n`` is even, then ``A[n/2]`` is real.\n",
      "\n",
      "If the data type of `x` is real, a \"real FFT\" algorithm is automatically\n",
      "used, which roughly halves the computation time. To increase efficiency\n",
      "a little further, use `rfft`, which does the same calculation, but only\n",
      "outputs half of the symmetrical spectrum. If the data is both real and\n",
      "symmetrical, the `dct` can again double the efficiency by generating\n",
      "half of the spectrum from half of the signal.\n",
      "\n",
      "Examples\n",
      "--------\n",
      ">>> import numpy as np\n",
      ">>> from scipy.fftpack import fft, ifft\n",
      ">>> x = np.arange(5)\n",
      ">>> np.allclose(fft(ifft(x)), x, atol=1e-15)  # within numerical accuracy.\n",
      "True\n"
     ]
    }
   ],
   "source": [
    "np.info(ff.fft)"
   ]
  },
  {
   "cell_type": "code",
   "execution_count": 85,
   "id": "25bc9321-c1de-4d1c-831f-1ef8c559b7ec",
   "metadata": {},
   "outputs": [
    {
     "data": {
      "text/plain": [
       "\u001b[0;31mSignature:\u001b[0m \u001b[0mff\u001b[0m\u001b[0;34m.\u001b[0m\u001b[0mfft\u001b[0m\u001b[0;34m(\u001b[0m\u001b[0mx\u001b[0m\u001b[0;34m,\u001b[0m \u001b[0mn\u001b[0m\u001b[0;34m=\u001b[0m\u001b[0;32mNone\u001b[0m\u001b[0;34m,\u001b[0m \u001b[0maxis\u001b[0m\u001b[0;34m=\u001b[0m\u001b[0;34m-\u001b[0m\u001b[0;36m1\u001b[0m\u001b[0;34m,\u001b[0m \u001b[0moverwrite_x\u001b[0m\u001b[0;34m=\u001b[0m\u001b[0;32mFalse\u001b[0m\u001b[0;34m)\u001b[0m\u001b[0;34m\u001b[0m\u001b[0;34m\u001b[0m\u001b[0m\n",
       "\u001b[0;31mDocstring:\u001b[0m\n",
       "Return discrete Fourier transform of real or complex sequence.\n",
       "\n",
       "The returned complex array contains ``y(0), y(1),..., y(n-1)``, where\n",
       "\n",
       "``y(j) = (x * exp(-2*pi*sqrt(-1)*j*np.arange(n)/n)).sum()``.\n",
       "\n",
       "Parameters\n",
       "----------\n",
       "x : array_like\n",
       "    Array to Fourier transform.\n",
       "n : int, optional\n",
       "    Length of the Fourier transform. If ``n < x.shape[axis]``, `x` is\n",
       "    truncated. If ``n > x.shape[axis]``, `x` is zero-padded. The\n",
       "    default results in ``n = x.shape[axis]``.\n",
       "axis : int, optional\n",
       "    Axis along which the fft's are computed; the default is over the\n",
       "    last axis (i.e., ``axis=-1``).\n",
       "overwrite_x : bool, optional\n",
       "    If True, the contents of `x` can be destroyed; the default is False.\n",
       "\n",
       "Returns\n",
       "-------\n",
       "z : complex ndarray\n",
       "    with the elements::\n",
       "\n",
       "        [y(0),y(1),..,y(n/2),y(1-n/2),...,y(-1)]        if n is even\n",
       "        [y(0),y(1),..,y((n-1)/2),y(-(n-1)/2),...,y(-1)]  if n is odd\n",
       "\n",
       "    where::\n",
       "\n",
       "        y(j) = sum[k=0..n-1] x[k] * exp(-sqrt(-1)*j*k* 2*pi/n), j = 0..n-1\n",
       "\n",
       "See Also\n",
       "--------\n",
       "ifft : Inverse FFT\n",
       "rfft : FFT of a real sequence\n",
       "\n",
       "Notes\n",
       "-----\n",
       "The packing of the result is \"standard\": If ``A = fft(a, n)``, then\n",
       "``A[0]`` contains the zero-frequency term, ``A[1:n/2]`` contains the\n",
       "positive-frequency terms, and ``A[n/2:]`` contains the negative-frequency\n",
       "terms, in order of decreasingly negative frequency. So ,for an 8-point\n",
       "transform, the frequencies of the result are [0, 1, 2, 3, -4, -3, -2, -1].\n",
       "To rearrange the fft output so that the zero-frequency component is\n",
       "centered, like [-4, -3, -2, -1,  0,  1,  2,  3], use `fftshift`.\n",
       "\n",
       "Both single and double precision routines are implemented. Half precision\n",
       "inputs will be converted to single precision. Non-floating-point inputs\n",
       "will be converted to double precision. Long-double precision inputs are\n",
       "not supported.\n",
       "\n",
       "This function is most efficient when `n` is a power of two, and least\n",
       "efficient when `n` is prime.\n",
       "\n",
       "Note that if ``x`` is real-valued, then ``A[j] == A[n-j].conjugate()``.\n",
       "If ``x`` is real-valued and ``n`` is even, then ``A[n/2]`` is real.\n",
       "\n",
       "If the data type of `x` is real, a \"real FFT\" algorithm is automatically\n",
       "used, which roughly halves the computation time. To increase efficiency\n",
       "a little further, use `rfft`, which does the same calculation, but only\n",
       "outputs half of the symmetrical spectrum. If the data is both real and\n",
       "symmetrical, the `dct` can again double the efficiency by generating\n",
       "half of the spectrum from half of the signal.\n",
       "\n",
       "Examples\n",
       "--------\n",
       ">>> import numpy as np\n",
       ">>> from scipy.fftpack import fft, ifft\n",
       ">>> x = np.arange(5)\n",
       ">>> np.allclose(fft(ifft(x)), x, atol=1e-15)  # within numerical accuracy.\n",
       "True\n",
       "\u001b[0;31mFile:\u001b[0m      /Library/Frameworks/Python.framework/Versions/3.11/lib/python3.11/site-packages/scipy/fftpack/_basic.py\n",
       "\u001b[0;31mType:\u001b[0m      function"
      ]
     },
     "metadata": {},
     "output_type": "display_data"
    }
   ],
   "source": [
    "ff.fft?"
   ]
  },
  {
   "cell_type": "code",
   "execution_count": 86,
   "id": "c608b2d1-68dc-4f59-aeca-6a39a32ccddf",
   "metadata": {},
   "outputs": [
    {
     "name": "stdout",
     "output_type": "stream",
     "text": [
      "In file: /Library/Frameworks/Python.framework/Versions/3.11/lib/python3.11/site-packages/scipy/fftpack/_basic.py\n",
      "\n",
      "def fft(x, n=None, axis=-1, overwrite_x=False):\n",
      "    \"\"\"\n",
      "    Return discrete Fourier transform of real or complex sequence.\n",
      "\n",
      "    The returned complex array contains ``y(0), y(1),..., y(n-1)``, where\n",
      "\n",
      "    ``y(j) = (x * exp(-2*pi*sqrt(-1)*j*np.arange(n)/n)).sum()``.\n",
      "\n",
      "    Parameters\n",
      "    ----------\n",
      "    x : array_like\n",
      "        Array to Fourier transform.\n",
      "    n : int, optional\n",
      "        Length of the Fourier transform. If ``n < x.shape[axis]``, `x` is\n",
      "        truncated. If ``n > x.shape[axis]``, `x` is zero-padded. The\n",
      "        default results in ``n = x.shape[axis]``.\n",
      "    axis : int, optional\n",
      "        Axis along which the fft's are computed; the default is over the\n",
      "        last axis (i.e., ``axis=-1``).\n",
      "    overwrite_x : bool, optional\n",
      "        If True, the contents of `x` can be destroyed; the default is False.\n",
      "\n",
      "    Returns\n",
      "    -------\n",
      "    z : complex ndarray\n",
      "        with the elements::\n",
      "\n",
      "            [y(0),y(1),..,y(n/2),y(1-n/2),...,y(-1)]        if n is even\n",
      "            [y(0),y(1),..,y((n-1)/2),y(-(n-1)/2),...,y(-1)]  if n is odd\n",
      "\n",
      "        where::\n",
      "\n",
      "            y(j) = sum[k=0..n-1] x[k] * exp(-sqrt(-1)*j*k* 2*pi/n), j = 0..n-1\n",
      "\n",
      "    See Also\n",
      "    --------\n",
      "    ifft : Inverse FFT\n",
      "    rfft : FFT of a real sequence\n",
      "\n",
      "    Notes\n",
      "    -----\n",
      "    The packing of the result is \"standard\": If ``A = fft(a, n)``, then\n",
      "    ``A[0]`` contains the zero-frequency term, ``A[1:n/2]`` contains the\n",
      "    positive-frequency terms, and ``A[n/2:]`` contains the negative-frequency\n",
      "    terms, in order of decreasingly negative frequency. So ,for an 8-point\n",
      "    transform, the frequencies of the result are [0, 1, 2, 3, -4, -3, -2, -1].\n",
      "    To rearrange the fft output so that the zero-frequency component is\n",
      "    centered, like [-4, -3, -2, -1,  0,  1,  2,  3], use `fftshift`.\n",
      "\n",
      "    Both single and double precision routines are implemented. Half precision\n",
      "    inputs will be converted to single precision. Non-floating-point inputs\n",
      "    will be converted to double precision. Long-double precision inputs are\n",
      "    not supported.\n",
      "\n",
      "    This function is most efficient when `n` is a power of two, and least\n",
      "    efficient when `n` is prime.\n",
      "\n",
      "    Note that if ``x`` is real-valued, then ``A[j] == A[n-j].conjugate()``.\n",
      "    If ``x`` is real-valued and ``n`` is even, then ``A[n/2]`` is real.\n",
      "\n",
      "    If the data type of `x` is real, a \"real FFT\" algorithm is automatically\n",
      "    used, which roughly halves the computation time. To increase efficiency\n",
      "    a little further, use `rfft`, which does the same calculation, but only\n",
      "    outputs half of the symmetrical spectrum. If the data is both real and\n",
      "    symmetrical, the `dct` can again double the efficiency by generating\n",
      "    half of the spectrum from half of the signal.\n",
      "\n",
      "    Examples\n",
      "    --------\n",
      "    >>> import numpy as np\n",
      "    >>> from scipy.fftpack import fft, ifft\n",
      "    >>> x = np.arange(5)\n",
      "    >>> np.allclose(fft(ifft(x)), x, atol=1e-15)  # within numerical accuracy.\n",
      "    True\n",
      "\n",
      "    \"\"\"\n",
      "    return _pocketfft.fft(x, n, axis, None, overwrite_x)\n",
      "\n"
     ]
    }
   ],
   "source": [
    "np.source(ff.fft)"
   ]
  },
  {
   "cell_type": "code",
   "execution_count": 89,
   "id": "29b6facd-4e3f-4216-adb4-7fffce2a700e",
   "metadata": {},
   "outputs": [
    {
     "name": "stdout",
     "output_type": "stream",
     "text": [
      "Search results for 'deviation'\n",
      "------------------------------\n",
      "numpy.std\n",
      "    Compute the standard deviation along the specified axis.\n",
      "numpy.nanstd\n",
      "    Compute the standard deviation along the specified axis, while\n",
      "numpy.ma.std\n",
      "    Returns the standard deviation of the array elements along given axis.\n",
      "numpy.ma.anom\n",
      "    Compute the anomalies (deviations from the arithmetic mean)\n",
      "numpy.matrix.std\n",
      "    Return the standard deviation of the array elements along the given axis.\n",
      "numpy.chararray.std\n",
      "    Returns the standard deviation of the array elements along given axis.\n",
      "numpy.ma.MaskedArray.std\n",
      "    Returns the standard deviation of the array elements along given axis.\n",
      "numpy.ma.MaskedArray.anom\n",
      "    Compute the anomalies (deviations from the arithmetic mean)\n",
      "numpy.var\n",
      "    Compute the variance along the specified axis.\n",
      "numpy.nanvar\n",
      "    Compute the variance along the specified axis, while ignoring NaNs.\n",
      "numpy.ma.var\n",
      "    Compute the variance along the specified axis.\n",
      "numpy.matlib.randn\n",
      "    Return a random matrix with data from the \"standard normal\" distribution.\n",
      "numpy.histogram_bin_edges\n",
      "    Function to calculate only the edges of the bins used by the `histogram`\n",
      "numpy.ma.MaskedArray.var\n",
      "    Compute the variance along the specified axis.\n",
      "numpy.random.Generator.f\n",
      "    Draw samples from an F distribution.\n",
      "numpy.random.RandomState.f\n",
      "    Draw samples from an F distribution.\n",
      "numpy.random.Generator.normal\n",
      "    Draw random samples from a normal (Gaussian) distribution.\n",
      "numpy.random.RandomState.randn\n",
      "    Return a sample (or samples) from the \"standard normal\" distribution.\n",
      "numpy.random.RandomState.normal\n",
      "    Draw random samples from a normal (Gaussian) distribution.\n",
      "numpy.random.Generator.lognormal\n",
      "    Draw samples from a log-normal distribution.\n",
      "numpy.random.Generator.standard_t\n",
      "    Draw samples from a standard Student's t distribution with `df` degrees\n",
      "numpy.random.RandomState.lognormal\n",
      "    Draw samples from a log-normal distribution.\n",
      "numpy.random.RandomState.standard_t\n",
      "    Draw samples from a standard Student's t distribution with `df` degrees\n",
      "numpy.random.Generator.standard_normal\n",
      "    Draw samples from a standard Normal distribution (mean=0, stdev=1).\n",
      "numpy.random.RandomState.standard_normal\n",
      "    Draw samples from a standard Normal distribution (mean=0, stdev=1).\n",
      "numpy.random.Generator.multivariate_normal\n",
      "    multivariate_normal(mean, cov, size=None, check_valid='warn',\n",
      "numpy.random.RandomState.multivariate_normal\n",
      "    Draw random samples from a multivariate normal distribution."
     ]
    }
   ],
   "source": [
    "np.lookfor('deviation')"
   ]
  },
  {
   "cell_type": "code",
   "execution_count": 92,
   "id": "4a7c4668-9e1c-4ae7-af3d-fc3c0758b1ff",
   "metadata": {},
   "outputs": [
    {
     "name": "stdout",
     "output_type": "stream",
     "text": [
      "Search results for 'skew'\n",
      "-------------------------\n",
      "numpy.histogram_bin_edges\n",
      "    Function to calculate only the edges of the bins used by the `histogram`\n"
     ]
    },
    {
     "name": "stderr",
     "output_type": "stream",
     "text": [
      "/var/folders/p7/_ryqngjd3jn_ppndvnhdzqch0000gn/T/ipykernel_66568/414896514.py:2: DeprecationWarning: scipy.lookfor is deprecated and will be removed in SciPy 2.0.0, use numpy.lookfor instead\n",
      "  sp.lookfor('skew')\n"
     ]
    }
   ],
   "source": [
    "import scipy as sp\n",
    "sp.lookfor('skew')"
   ]
  },
  {
   "cell_type": "code",
   "execution_count": 93,
   "id": "d8167e91-b702-46b7-a451-bb5eba011cfb",
   "metadata": {},
   "outputs": [
    {
     "data": {
      "text/plain": [
       "array([[70, 31, 21, 76, 19,  5, 54, 66],\n",
       "       [23, 29, 71, 12, 27, 74, 65, 73]])"
      ]
     },
     "execution_count": 93,
     "metadata": {},
     "output_type": "execute_result"
    }
   ],
   "source": [
    "a"
   ]
  },
  {
   "cell_type": "code",
   "execution_count": 94,
   "id": "e39bc929-f731-44bb-b42c-2b4564e3f731",
   "metadata": {},
   "outputs": [
    {
     "name": "stdout",
     "output_type": "stream",
     "text": [
      "70\n",
      "31\n",
      "21\n",
      "76\n",
      "19\n",
      "5\n",
      "54\n",
      "66\n",
      "23\n",
      "29\n",
      "71\n",
      "12\n",
      "27\n",
      "74\n",
      "65\n",
      "73\n"
     ]
    }
   ],
   "source": [
    "for value in a.flat:\n",
    "    print(value)"
   ]
  },
  {
   "cell_type": "code",
   "execution_count": 95,
   "id": "9498419e-e466-41ee-8c24-11d8a1e1fabb",
   "metadata": {},
   "outputs": [
    {
     "data": {
      "text/plain": [
       "array([ 0,  1,  2,  3,  4,  5,  6,  7,  8,  9, 10, 11, 12, 13, 14, 15, 16,\n",
       "       17, 18, 19, 20, 21, 22, 23, 24, 25, 26, 27, 28, 29, 30, 31, 32, 33,\n",
       "       34, 35, 36, 37, 38, 39, 40, 41, 42, 43, 44])"
      ]
     },
     "execution_count": 95,
     "metadata": {},
     "output_type": "execute_result"
    }
   ],
   "source": [
    "r1 = np.arange(45)\n",
    "r1"
   ]
  },
  {
   "cell_type": "code",
   "execution_count": 98,
   "id": "ac478d0d-e4a2-4a18-9658-642f9e0e0a7f",
   "metadata": {},
   "outputs": [
    {
     "data": {
      "text/plain": [
       "array([ 0.,  1.,  2.,  3.,  4.,  5.,  6.,  7.,  8.,  9., 10., 11., 12.,\n",
       "       13., 14., 15., 16., 17., 18., 19., 20., 21., 22., 23., 24., 25.,\n",
       "       26., 27., 28., 29., 30., 31., 32., 33., 34., 35., 36., 37., 38.,\n",
       "       39., 40., 41., 42., 43., 44.])"
      ]
     },
     "execution_count": 98,
     "metadata": {},
     "output_type": "execute_result"
    }
   ],
   "source": [
    "r2 = np.arange(45.)\n",
    "r2"
   ]
  },
  {
   "cell_type": "code",
   "execution_count": 100,
   "id": "9229fda6-002c-4612-aefd-76c074b956c6",
   "metadata": {},
   "outputs": [
    {
     "data": {
      "text/plain": [
       "array([ 0,  1,  2,  3,  4,  5,  6,  7,  8,  9, 10, 11, 12, 13, 14, 15, 16,\n",
       "       17, 18, 19, 20, 21, 22, 23, 24, 25, 26, 27, 28, 29, 30, 31, 32, 33,\n",
       "       34, 35, 36, 37, 38, 39, 40, 41, 42, 43, 44], dtype=int16)"
      ]
     },
     "execution_count": 100,
     "metadata": {},
     "output_type": "execute_result"
    }
   ],
   "source": [
    "r3 = np.arange(45, dtype=np.int16)\n",
    "r3"
   ]
  },
  {
   "cell_type": "code",
   "execution_count": 101,
   "id": "395c6d74-554a-482b-b6a0-8f43adf890ff",
   "metadata": {},
   "outputs": [
    {
     "data": {
      "text/plain": [
       "(dtype('int64'), dtype('float64'), dtype('int16'))"
      ]
     },
     "execution_count": 101,
     "metadata": {},
     "output_type": "execute_result"
    }
   ],
   "source": [
    "r1.dtype, r2.dtype, r3.dtype"
   ]
  },
  {
   "cell_type": "code",
   "execution_count": 102,
   "id": "3a99ffb1-8631-49e2-a124-d7d6f07676f8",
   "metadata": {},
   "outputs": [
    {
     "data": {
      "text/plain": [
       "(360, 360, 90)"
      ]
     },
     "execution_count": 102,
     "metadata": {},
     "output_type": "execute_result"
    }
   ],
   "source": [
    "r1.nbytes, r2.nbytes, r3.nbytes"
   ]
  },
  {
   "cell_type": "code",
   "execution_count": 111,
   "id": "22b8954b-2d4e-4df1-aeca-68c386929ab8",
   "metadata": {},
   "outputs": [
    {
     "name": "stderr",
     "output_type": "stream",
     "text": [
      "/var/folders/p7/_ryqngjd3jn_ppndvnhdzqch0000gn/T/ipykernel_66568/1174149433.py:2: DeprecationWarning: NumPy will stop allowing conversion of out-of-bound Python integers to integer arrays.  The conversion of 5392582985 to int16 will fail in the future.\n",
      "For the old behavior, usually:\n",
      "    np.array(value).astype(dtype)\n",
      "will give the desired result (the cast overflows).\n",
      "  d = np.array(raw_data, dtype=np.int16)\n"
     ]
    },
    {
     "data": {
      "text/plain": [
       "array([    1,     2,     3,     4, 18761], dtype=int16)"
      ]
     },
     "execution_count": 111,
     "metadata": {},
     "output_type": "execute_result"
    }
   ],
   "source": [
    "raw_data = [1., 2, 3, 4, 5392582985]\n",
    "d = np.array(raw_data, dtype=np.int16)\n",
    "d"
   ]
  },
  {
   "cell_type": "code",
   "execution_count": 110,
   "id": "0a7648c2-50f4-4750-b003-b11efcac91c7",
   "metadata": {},
   "outputs": [
    {
     "data": {
      "text/plain": [
       "dtype('int16')"
      ]
     },
     "execution_count": 110,
     "metadata": {},
     "output_type": "execute_result"
    }
   ],
   "source": [
    "d.dtype"
   ]
  },
  {
   "cell_type": "code",
   "execution_count": 112,
   "id": "2bb25401-2280-4e4c-bba2-6d8e4e2b1830",
   "metadata": {},
   "outputs": [
    {
     "data": {
      "text/plain": [
       "array([[63., 51., 59., 61., 50.,  4.],\n",
       "       [40., 66.,  9., 64., 63., 17.],\n",
       "       [18., 23.,  2., 61.,  1.,  9.],\n",
       "       ...,\n",
       "       [26., 20., 54., 46., 38., 23.],\n",
       "       [ 9.,  5., 59., 23.,  2., 26.],\n",
       "       [46., 34., 25.,  8., 39., 34.]])"
      ]
     },
     "execution_count": 112,
     "metadata": {},
     "output_type": "execute_result"
    }
   ],
   "source": [
    "data"
   ]
  },
  {
   "cell_type": "code",
   "execution_count": 114,
   "id": "bde5ab9b-dc65-4266-9f9d-17d150f9af42",
   "metadata": {},
   "outputs": [
    {
     "data": {
      "text/plain": [
       "array([[63, 51, 59, 61, 50,  4],\n",
       "       [40, 66,  9, 64, 63, 17],\n",
       "       [18, 23,  2, 61,  1,  9],\n",
       "       ...,\n",
       "       [26, 20, 54, 46, 38, 23],\n",
       "       [ 9,  5, 59, 23,  2, 26],\n",
       "       [46, 34, 25,  8, 39, 34]], dtype=int32)"
      ]
     },
     "execution_count": 114,
     "metadata": {},
     "output_type": "execute_result"
    }
   ],
   "source": [
    "data = np.loadtxt(\"../DATA/columns_of_numbers.txt\", skiprows=1, dtype=np.int32)\n",
    "data"
   ]
  },
  {
   "cell_type": "code",
   "execution_count": 115,
   "id": "663ffd97-94f4-4691-b1da-f62d00c117a2",
   "metadata": {},
   "outputs": [
    {
     "data": {
      "text/plain": [
       "array([[630, 510, 590, 610, 500,  40],\n",
       "       [400, 660,  90, 640, 630, 170],\n",
       "       [180, 230,  20, 610,  10,  90],\n",
       "       ...,\n",
       "       [260, 200, 540, 460, 380, 230],\n",
       "       [ 90,  50, 590, 230,  20, 260],\n",
       "       [460, 340, 250,  80, 390, 340]], dtype=int32)"
      ]
     },
     "execution_count": 115,
     "metadata": {},
     "output_type": "execute_result"
    }
   ],
   "source": [
    "new_data = data * 10\n",
    "new_data"
   ]
  },
  {
   "cell_type": "code",
   "execution_count": 125,
   "id": "83bccfad-563e-46e0-b74f-f49d2f3927b9",
   "metadata": {},
   "outputs": [],
   "source": [
    "np.savetxt('newdata.txt', new_data, delimiter=\",\", fmt=\"%d\")"
   ]
  },
  {
   "cell_type": "code",
   "execution_count": 126,
   "id": "43f312ea-5996-4b3f-ab50-f4e918e5a253",
   "metadata": {},
   "outputs": [
    {
     "name": "stdout",
     "output_type": "stream",
     "text": [
      "630,510,590,610,500,40\n",
      "400,660,90,640,630,170\n",
      "180,230,20,610,10,90\n",
      "290,80,400,590,100,260\n",
      "540,90,680,40,160,210\n",
      "450,190,420,530,480,160\n",
      "460,370,290,530,680,80\n",
      "360,320,220,580,100,100\n",
      "650,140,460,680,610,130\n",
      "130,620,100,530,320,210\n"
     ]
    }
   ],
   "source": [
    "!cat newdata.txt | head"
   ]
  },
  {
   "cell_type": "code",
   "execution_count": null,
   "id": "0845718b-f518-4151-900c-f708619c0ace",
   "metadata": {},
   "outputs": [],
   "source": []
  }
 ],
 "metadata": {
  "kernelspec": {
   "display_name": "Python 3 (ipykernel)",
   "language": "python",
   "name": "python3"
  },
  "language_info": {
   "codemirror_mode": {
    "name": "ipython",
    "version": 3
   },
   "file_extension": ".py",
   "mimetype": "text/x-python",
   "name": "python",
   "nbconvert_exporter": "python",
   "pygments_lexer": "ipython3",
   "version": "3.11.6"
  }
 },
 "nbformat": 4,
 "nbformat_minor": 5
}
